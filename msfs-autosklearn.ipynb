{
 "cells": [
  {
   "cell_type": "code",
   "execution_count": 1,
   "id": "fe10726f",
   "metadata": {
    "execution": {
     "iopub.execute_input": "2024-08-26T10:55:38.422134Z",
     "iopub.status.busy": "2024-08-26T10:55:38.420802Z",
     "iopub.status.idle": "2024-08-26T10:56:30.408232Z",
     "shell.execute_reply": "2024-08-26T10:56:30.406754Z"
    },
    "papermill": {
     "duration": 52.011173,
     "end_time": "2024-08-26T10:56:30.411774",
     "exception": false,
     "start_time": "2024-08-26T10:55:38.400601",
     "status": "completed"
    },
    "tags": []
   },
   "outputs": [
    {
     "name": "stdout",
     "output_type": "stream",
     "text": [
      "Collecting auto-sklearn\r\n",
      "  Downloading auto-sklearn-0.15.0.tar.gz (6.5 MB)\r\n",
      "\u001b[2K     \u001b[90m━━━━━━━━━━━━━━━━━━━━━━━━━━━━━━━━━━━━━━━━\u001b[0m \u001b[32m6.5/6.5 MB\u001b[0m \u001b[31m42.7 MB/s\u001b[0m eta \u001b[36m0:00:00\u001b[0m\r\n",
      "\u001b[?25h  Installing build dependencies ... \u001b[?25l-\b \b\\\b \b|\b \b/\b \bdone\r\n",
      "\u001b[?25h  Getting requirements to build wheel ... \u001b[?25l-\b \b\\\b \bdone\r\n",
      "\u001b[?25h  Preparing metadata (pyproject.toml) ... \u001b[?25l-\b \bdone\r\n",
      "\u001b[?25hCollecting distro\r\n",
      "  Downloading distro-1.9.0-py3-none-any.whl (20 kB)\r\n",
      "Collecting scikit-learn<0.25.0,>=0.24.0\r\n",
      "  Downloading scikit_learn-0.24.2-cp37-cp37m-manylinux2010_x86_64.whl (22.3 MB)\r\n",
      "\u001b[2K     \u001b[90m━━━━━━━━━━━━━━━━━━━━━━━━━━━━━━━━━━━━━━━━\u001b[0m \u001b[32m22.3/22.3 MB\u001b[0m \u001b[31m43.0 MB/s\u001b[0m eta \u001b[36m0:00:00\u001b[0m\r\n",
      "\u001b[?25hRequirement already satisfied: numpy>=1.9.0 in /opt/conda/lib/python3.7/site-packages (from auto-sklearn) (1.21.6)\r\n",
      "Collecting smac<1.3,>=1.2\r\n",
      "  Downloading smac-1.2.tar.gz (260 kB)\r\n",
      "\u001b[2K     \u001b[90m━━━━━━━━━━━━━━━━━━━━━━━━━━━━━━━━━━━━━━\u001b[0m \u001b[32m260.9/260.9 kB\u001b[0m \u001b[31m20.5 MB/s\u001b[0m eta \u001b[36m0:00:00\u001b[0m\r\n",
      "\u001b[?25h  Preparing metadata (setup.py) ... \u001b[?25l-\b \bdone\r\n",
      "\u001b[?25hRequirement already satisfied: setuptools in /opt/conda/lib/python3.7/site-packages (from auto-sklearn) (59.8.0)\r\n",
      "Requirement already satisfied: threadpoolctl in /opt/conda/lib/python3.7/site-packages (from auto-sklearn) (3.1.0)\r\n",
      "Requirement already satisfied: typing-extensions in /opt/conda/lib/python3.7/site-packages (from auto-sklearn) (4.4.0)\r\n",
      "Collecting ConfigSpace<0.5,>=0.4.21\r\n",
      "  Downloading ConfigSpace-0.4.21-cp37-cp37m-manylinux_2_17_x86_64.manylinux2014_x86_64.whl (4.3 MB)\r\n",
      "\u001b[2K     \u001b[90m━━━━━━━━━━━━━━━━━━━━━━━━━━━━━━━━━━━━━━━━\u001b[0m \u001b[32m4.3/4.3 MB\u001b[0m \u001b[31m21.1 MB/s\u001b[0m eta \u001b[36m0:00:00\u001b[0m\r\n",
      "\u001b[?25hRequirement already satisfied: distributed>=2012.12 in /opt/conda/lib/python3.7/site-packages (from auto-sklearn) (2022.2.0)\r\n",
      "Requirement already satisfied: pandas>=1.0 in /opt/conda/lib/python3.7/site-packages (from auto-sklearn) (1.3.5)\r\n",
      "Requirement already satisfied: scipy>=1.7.0 in /opt/conda/lib/python3.7/site-packages (from auto-sklearn) (1.7.3)\r\n",
      "Collecting pynisher<0.7,>=0.6.3\r\n",
      "  Downloading pynisher-0.6.4.tar.gz (11 kB)\r\n",
      "  Preparing metadata (setup.py) ... \u001b[?25l-\b \bdone\r\n",
      "\u001b[?25hCollecting liac-arff\r\n",
      "  Downloading liac-arff-2.5.0.tar.gz (13 kB)\r\n",
      "  Preparing metadata (setup.py) ... \u001b[?25l-\b \bdone\r\n",
      "\u001b[?25hRequirement already satisfied: joblib in /opt/conda/lib/python3.7/site-packages (from auto-sklearn) (1.2.0)\r\n",
      "Requirement already satisfied: dask>=2021.12 in /opt/conda/lib/python3.7/site-packages (from auto-sklearn) (2022.2.0)\r\n",
      "Collecting pyrfr<0.9,>=0.8.1\r\n",
      "  Downloading pyrfr-0.8.3-cp37-cp37m-manylinux_2_17_x86_64.manylinux2014_x86_64.whl (4.4 MB)\r\n",
      "\u001b[2K     \u001b[90m━━━━━━━━━━━━━━━━━━━━━━━━━━━━━━━━━━━━━━━━\u001b[0m \u001b[32m4.4/4.4 MB\u001b[0m \u001b[31m14.9 MB/s\u001b[0m eta \u001b[36m0:00:00\u001b[0m\r\n",
      "\u001b[?25hRequirement already satisfied: pyyaml in /opt/conda/lib/python3.7/site-packages (from auto-sklearn) (6.0)\r\n",
      "Requirement already satisfied: cython in /opt/conda/lib/python3.7/site-packages (from ConfigSpace<0.5,>=0.4.21->auto-sklearn) (0.29.34)\r\n",
      "Requirement already satisfied: pyparsing in /opt/conda/lib/python3.7/site-packages (from ConfigSpace<0.5,>=0.4.21->auto-sklearn) (3.0.9)\r\n",
      "Requirement already satisfied: toolz>=0.8.2 in /opt/conda/lib/python3.7/site-packages (from dask>=2021.12->auto-sklearn) (0.11.2)\r\n",
      "Requirement already satisfied: partd>=0.3.10 in /opt/conda/lib/python3.7/site-packages (from dask>=2021.12->auto-sklearn) (1.3.0)\r\n",
      "Requirement already satisfied: packaging>=20.0 in /opt/conda/lib/python3.7/site-packages (from dask>=2021.12->auto-sklearn) (23.0)\r\n",
      "Requirement already satisfied: fsspec>=0.6.0 in /opt/conda/lib/python3.7/site-packages (from dask>=2021.12->auto-sklearn) (2023.1.0)\r\n",
      "Requirement already satisfied: cloudpickle>=1.1.1 in /opt/conda/lib/python3.7/site-packages (from dask>=2021.12->auto-sklearn) (2.2.1)\r\n",
      "Requirement already satisfied: click>=6.6 in /opt/conda/lib/python3.7/site-packages (from distributed>=2012.12->auto-sklearn) (8.1.3)\r\n",
      "Requirement already satisfied: psutil>=5.0 in /opt/conda/lib/python3.7/site-packages (from distributed>=2012.12->auto-sklearn) (5.9.3)\r\n",
      "Requirement already satisfied: sortedcontainers!=2.0.0,!=2.0.1 in /opt/conda/lib/python3.7/site-packages (from distributed>=2012.12->auto-sklearn) (2.4.0)\r\n",
      "Requirement already satisfied: tblib>=1.6.0 in /opt/conda/lib/python3.7/site-packages (from distributed>=2012.12->auto-sklearn) (1.7.0)\r\n",
      "Requirement already satisfied: jinja2 in /opt/conda/lib/python3.7/site-packages (from distributed>=2012.12->auto-sklearn) (3.1.2)\r\n",
      "Requirement already satisfied: zict>=0.1.3 in /opt/conda/lib/python3.7/site-packages (from distributed>=2012.12->auto-sklearn) (2.2.0)\r\n",
      "Requirement already satisfied: tornado>=5 in /opt/conda/lib/python3.7/site-packages (from distributed>=2012.12->auto-sklearn) (6.2)\r\n",
      "Requirement already satisfied: msgpack>=0.6.0 in /opt/conda/lib/python3.7/site-packages (from distributed>=2012.12->auto-sklearn) (1.0.4)\r\n",
      "Requirement already satisfied: pytz>=2017.3 in /opt/conda/lib/python3.7/site-packages (from pandas>=1.0->auto-sklearn) (2022.7.1)\r\n",
      "Requirement already satisfied: python-dateutil>=2.7.3 in /opt/conda/lib/python3.7/site-packages (from pandas>=1.0->auto-sklearn) (2.8.2)\r\n",
      "Collecting emcee>=3.0.0\r\n",
      "  Downloading emcee-3.1.6-py2.py3-none-any.whl (47 kB)\r\n",
      "\u001b[2K     \u001b[90m━━━━━━━━━━━━━━━━━━━━━━━━━━━━━━━━━━━━━━━━\u001b[0m \u001b[32m47.4/47.4 kB\u001b[0m \u001b[31m3.1 MB/s\u001b[0m eta \u001b[36m0:00:00\u001b[0m\r\n",
      "\u001b[?25hRequirement already satisfied: importlib-metadata in /opt/conda/lib/python3.7/site-packages (from click>=6.6->distributed>=2012.12->auto-sklearn) (4.11.4)\r\n",
      "Requirement already satisfied: locket in /opt/conda/lib/python3.7/site-packages (from partd>=0.3.10->dask>=2021.12->auto-sklearn) (1.0.0)\r\n",
      "Requirement already satisfied: six>=1.5 in /opt/conda/lib/python3.7/site-packages (from python-dateutil>=2.7.3->pandas>=1.0->auto-sklearn) (1.16.0)\r\n",
      "Requirement already satisfied: heapdict in /opt/conda/lib/python3.7/site-packages (from zict>=0.1.3->distributed>=2012.12->auto-sklearn) (1.0.1)\r\n",
      "Requirement already satisfied: MarkupSafe>=2.0 in /opt/conda/lib/python3.7/site-packages (from jinja2->distributed>=2012.12->auto-sklearn) (2.1.1)\r\n",
      "Requirement already satisfied: zipp>=0.5 in /opt/conda/lib/python3.7/site-packages (from importlib-metadata->click>=6.6->distributed>=2012.12->auto-sklearn) (3.11.0)\r\n",
      "Building wheels for collected packages: auto-sklearn, pynisher, smac, liac-arff\r\n",
      "  Building wheel for auto-sklearn (pyproject.toml) ... \u001b[?25l-\b \b\\\b \b|\b \b/\b \b-\b \b\\\b \b|\b \b/\b \b-\b \b\\\b \b|\b \b/\b \b-\b \b\\\b \b|\b \b/\b \b-\b \b\\\b \b|\b \b/\b \bdone\r\n",
      "\u001b[?25h  Created wheel for auto-sklearn: filename=auto_sklearn-0.15.0-py3-none-any.whl size=6641936 sha256=41fe8d6f94eda46db89daacd6387ce2f6b01188e5950726dcdb7dd3ae8581483\r\n",
      "  Stored in directory: /root/.cache/pip/wheels/2b/0b/d7/8f19de615c44d321851dd524b53017ca6c8cef6180977bf930\r\n",
      "  Building wheel for pynisher (setup.py) ... \u001b[?25l-\b \b\\\b \bdone\r\n",
      "\u001b[?25h  Created wheel for pynisher: filename=pynisher-0.6.4-py3-none-any.whl size=7044 sha256=8fd67122f36d9a6e2f8ebe3dd220e5de1754e55466cf645c64f343f5b368202b\r\n",
      "  Stored in directory: /root/.cache/pip/wheels/6c/70/0a/73bd4c826ba29d3da3be960d3686fa408056f22160c819c272\r\n",
      "  Building wheel for smac (setup.py) ... \u001b[?25l-\b \b\\\b \bdone\r\n",
      "\u001b[?25h  Created wheel for smac: filename=smac-1.2-py3-none-any.whl size=215931 sha256=84e0f457aa7da6faeef6c8c6dabd315d4e300492a3db5c095382f2d323a48743\r\n",
      "  Stored in directory: /root/.cache/pip/wheels/ba/92/44/44965625bd1a40369d34c0b20737160ead552aeb1b488aa693\r\n",
      "  Building wheel for liac-arff (setup.py) ... \u001b[?25l-\b \bdone\r\n",
      "\u001b[?25h  Created wheel for liac-arff: filename=liac_arff-2.5.0-py3-none-any.whl size=11732 sha256=1162d6515b436e80699f147fd7fe9bcd453a32416a79877cecf0a5283ed83dd5\r\n",
      "  Stored in directory: /root/.cache/pip/wheels/9e/4d/99/7a623bbbe5345b0862a3fc7638577a7d87011de6ab1c6e5ff0\r\n",
      "Successfully built auto-sklearn pynisher smac liac-arff\r\n",
      "Installing collected packages: pyrfr, pynisher, liac-arff, emcee, distro, scikit-learn, ConfigSpace, smac, auto-sklearn\r\n",
      "  Attempting uninstall: scikit-learn\r\n",
      "    Found existing installation: scikit-learn 1.0.2\r\n",
      "    Uninstalling scikit-learn-1.0.2:\r\n",
      "      Successfully uninstalled scikit-learn-1.0.2\r\n",
      "\u001b[31mERROR: pip's dependency resolver does not currently take into account all the packages that are installed. This behaviour is the source of the following dependency conflicts.\r\n",
      "yellowbrick 1.5 requires scikit-learn>=1.0.0, but you have scikit-learn 0.24.2 which is incompatible.\r\n",
      "nilearn 0.10.0 requires scikit-learn>=1.0.0, but you have scikit-learn 0.24.2 which is incompatible.\r\n",
      "mlxtend 0.22.0 requires scikit-learn>=1.0.2, but you have scikit-learn 0.24.2 which is incompatible.\r\n",
      "librosa 0.10.0.post2 requires soundfile>=0.12.1, but you have soundfile 0.11.0 which is incompatible.\r\n",
      "imbalanced-learn 0.10.1 requires scikit-learn>=1.0.2, but you have scikit-learn 0.24.2 which is incompatible.\r\n",
      "gplearn 0.4.2 requires scikit-learn>=1.0.2, but you have scikit-learn 0.24.2 which is incompatible.\u001b[0m\u001b[31m\r\n",
      "\u001b[0mSuccessfully installed ConfigSpace-0.4.21 auto-sklearn-0.15.0 distro-1.9.0 emcee-3.1.6 liac-arff-2.5.0 pynisher-0.6.4 pyrfr-0.8.3 scikit-learn-0.24.2 smac-1.2\r\n",
      "\u001b[33mWARNING: Running pip as the 'root' user can result in broken permissions and conflicting behaviour with the system package manager. It is recommended to use a virtual environment instead: https://pip.pypa.io/warnings/venv\u001b[0m\u001b[33m\r\n",
      "\u001b[0m"
     ]
    }
   ],
   "source": [
    "!pip3 install auto-sklearn"
   ]
  },
  {
   "cell_type": "code",
   "execution_count": 2,
   "id": "617f9953",
   "metadata": {
    "execution": {
     "iopub.execute_input": "2024-08-26T10:56:30.469555Z",
     "iopub.status.busy": "2024-08-26T10:56:30.469020Z",
     "iopub.status.idle": "2024-08-26T10:56:45.407144Z",
     "shell.execute_reply": "2024-08-26T10:56:45.405478Z"
    },
    "papermill": {
     "duration": 14.972405,
     "end_time": "2024-08-26T10:56:45.410564",
     "exception": false,
     "start_time": "2024-08-26T10:56:30.438159",
     "status": "completed"
    },
    "tags": []
   },
   "outputs": [
    {
     "name": "stdout",
     "output_type": "stream",
     "text": [
      "Requirement already satisfied: tpot in /opt/conda/lib/python3.7/site-packages (0.11.7)\r\n",
      "Requirement already satisfied: scikit-learn>=0.22.0 in /opt/conda/lib/python3.7/site-packages (from tpot) (0.24.2)\r\n",
      "Requirement already satisfied: update-checker>=0.16 in /opt/conda/lib/python3.7/site-packages (from tpot) (0.18.0)\r\n",
      "Requirement already satisfied: stopit>=1.1.1 in /opt/conda/lib/python3.7/site-packages (from tpot) (1.1.2)\r\n",
      "Requirement already satisfied: pandas>=0.24.2 in /opt/conda/lib/python3.7/site-packages (from tpot) (1.3.5)\r\n",
      "Requirement already satisfied: joblib>=0.13.2 in /opt/conda/lib/python3.7/site-packages (from tpot) (1.2.0)\r\n",
      "Requirement already satisfied: scipy>=1.3.1 in /opt/conda/lib/python3.7/site-packages (from tpot) (1.7.3)\r\n",
      "Requirement already satisfied: tqdm>=4.36.1 in /opt/conda/lib/python3.7/site-packages (from tpot) (4.64.1)\r\n",
      "Requirement already satisfied: deap>=1.2 in /opt/conda/lib/python3.7/site-packages (from tpot) (1.3.3)\r\n",
      "Requirement already satisfied: xgboost>=1.1.0 in /opt/conda/lib/python3.7/site-packages (from tpot) (1.6.2)\r\n",
      "Requirement already satisfied: numpy>=1.16.3 in /opt/conda/lib/python3.7/site-packages (from tpot) (1.21.6)\r\n",
      "Requirement already satisfied: pytz>=2017.3 in /opt/conda/lib/python3.7/site-packages (from pandas>=0.24.2->tpot) (2022.7.1)\r\n",
      "Requirement already satisfied: python-dateutil>=2.7.3 in /opt/conda/lib/python3.7/site-packages (from pandas>=0.24.2->tpot) (2.8.2)\r\n",
      "Requirement already satisfied: threadpoolctl>=2.0.0 in /opt/conda/lib/python3.7/site-packages (from scikit-learn>=0.22.0->tpot) (3.1.0)\r\n",
      "Requirement already satisfied: requests>=2.3.0 in /opt/conda/lib/python3.7/site-packages (from update-checker>=0.16->tpot) (2.28.2)\r\n",
      "Requirement already satisfied: six>=1.5 in /opt/conda/lib/python3.7/site-packages (from python-dateutil>=2.7.3->pandas>=0.24.2->tpot) (1.16.0)\r\n",
      "Requirement already satisfied: charset-normalizer<4,>=2 in /opt/conda/lib/python3.7/site-packages (from requests>=2.3.0->update-checker>=0.16->tpot) (2.1.1)\r\n",
      "Requirement already satisfied: certifi>=2017.4.17 in /opt/conda/lib/python3.7/site-packages (from requests>=2.3.0->update-checker>=0.16->tpot) (2022.12.7)\r\n",
      "Requirement already satisfied: urllib3<1.27,>=1.21.1 in /opt/conda/lib/python3.7/site-packages (from requests>=2.3.0->update-checker>=0.16->tpot) (1.26.14)\r\n",
      "Requirement already satisfied: idna<4,>=2.5 in /opt/conda/lib/python3.7/site-packages (from requests>=2.3.0->update-checker>=0.16->tpot) (3.4)\r\n",
      "\u001b[33mWARNING: Running pip as the 'root' user can result in broken permissions and conflicting behaviour with the system package manager. It is recommended to use a virtual environment instead: https://pip.pypa.io/warnings/venv\u001b[0m\u001b[33m\r\n",
      "\u001b[0m"
     ]
    }
   ],
   "source": [
    "# Tree-based Pipeline Optimization Tool\n",
    "! pip install tpot"
   ]
  },
  {
   "cell_type": "code",
   "execution_count": 3,
   "id": "8c1344d7",
   "metadata": {
    "execution": {
     "iopub.execute_input": "2024-08-26T10:56:45.465656Z",
     "iopub.status.busy": "2024-08-26T10:56:45.465173Z",
     "iopub.status.idle": "2024-08-26T10:56:45.472600Z",
     "shell.execute_reply": "2024-08-26T10:56:45.471166Z"
    },
    "papermill": {
     "duration": 0.039244,
     "end_time": "2024-08-26T10:56:45.476302",
     "exception": false,
     "start_time": "2024-08-26T10:56:45.437058",
     "status": "completed"
    },
    "tags": []
   },
   "outputs": [
    {
     "name": "stdout",
     "output_type": "stream",
     "text": [
      "3.7.12 | packaged by conda-forge | (default, Oct 26 2021, 06:08:53) \n",
      "[GCC 9.4.0]\n"
     ]
    }
   ],
   "source": [
    "import sys  \n",
    "print(sys.version)"
   ]
  },
  {
   "cell_type": "code",
   "execution_count": 4,
   "id": "daeb79f4",
   "metadata": {
    "execution": {
     "iopub.execute_input": "2024-08-26T10:56:45.531021Z",
     "iopub.status.busy": "2024-08-26T10:56:45.530563Z",
     "iopub.status.idle": "2024-08-26T10:56:45.538101Z",
     "shell.execute_reply": "2024-08-26T10:56:45.536715Z"
    },
    "papermill": {
     "duration": 0.038907,
     "end_time": "2024-08-26T10:56:45.541666",
     "exception": false,
     "start_time": "2024-08-26T10:56:45.502759",
     "status": "completed"
    },
    "tags": []
   },
   "outputs": [
    {
     "name": "stdout",
     "output_type": "stream",
     "text": [
      "Linux-5.15.154+-x86_64-with-debian-bullseye-sid\n",
      "Linux\n",
      "5.15.154+\n"
     ]
    }
   ],
   "source": [
    "import platform  \n",
    "print(platform.platform())  \n",
    "print(platform.system())  \n",
    "print(platform.release())"
   ]
  },
  {
   "cell_type": "code",
   "execution_count": 5,
   "id": "c6b58cbe",
   "metadata": {
    "execution": {
     "iopub.execute_input": "2024-08-26T10:56:45.597104Z",
     "iopub.status.busy": "2024-08-26T10:56:45.596139Z",
     "iopub.status.idle": "2024-08-26T10:56:46.756959Z",
     "shell.execute_reply": "2024-08-26T10:56:46.754727Z"
    },
    "papermill": {
     "duration": 1.193945,
     "end_time": "2024-08-26T10:56:46.761956",
     "exception": false,
     "start_time": "2024-08-26T10:56:45.568011",
     "status": "completed"
    },
    "tags": []
   },
   "outputs": [
    {
     "name": "stdout",
     "output_type": "stream",
     "text": [
      "processor\t: 0\r\n",
      "vendor_id\t: GenuineIntel\r\n",
      "cpu family\t: 6\r\n",
      "model\t\t: 79\r\n",
      "model name\t: Intel(R) Xeon(R) CPU @ 2.20GHz\r\n",
      "stepping\t: 0\r\n",
      "microcode\t: 0xffffffff\r\n",
      "cpu MHz\t\t: 2199.998\r\n",
      "cache size\t: 56320 KB\r\n",
      "physical id\t: 0\r\n",
      "siblings\t: 4\r\n",
      "core id\t\t: 0\r\n",
      "cpu cores\t: 2\r\n",
      "apicid\t\t: 0\r\n",
      "initial apicid\t: 0\r\n",
      "fpu\t\t: yes\r\n",
      "fpu_exception\t: yes\r\n",
      "cpuid level\t: 13\r\n",
      "wp\t\t: yes\r\n",
      "flags\t\t: fpu vme de pse tsc msr pae mce cx8 apic sep mtrr pge mca cmov pat pse36 clflush mmx fxsr sse sse2 ss ht syscall nx pdpe1gb rdtscp lm constant_tsc rep_good nopl xtopology nonstop_tsc cpuid tsc_known_freq pni pclmulqdq ssse3 fma cx16 pcid sse4_1 sse4_2 x2apic movbe popcnt aes xsave avx f16c rdrand hypervisor lahf_lm abm 3dnowprefetch invpcid_single pti ssbd ibrs ibpb stibp fsgsbase tsc_adjust bmi1 hle avx2 smep bmi2 erms invpcid rtm rdseed adx smap xsaveopt arat md_clear arch_capabilities\r\n",
      "bugs\t\t: cpu_meltdown spectre_v1 spectre_v2 spec_store_bypass l1tf mds swapgs taa mmio_stale_data retbleed bhi\r\n",
      "bogomips\t: 4399.99\r\n",
      "clflush size\t: 64\r\n",
      "cache_alignment\t: 64\r\n",
      "address sizes\t: 46 bits physical, 48 bits virtual\r\n",
      "power management:\r\n",
      "\r\n",
      "processor\t: 1\r\n",
      "vendor_id\t: GenuineIntel\r\n",
      "cpu family\t: 6\r\n",
      "model\t\t: 79\r\n",
      "model name\t: Intel(R) Xeon(R) CPU @ 2.20GHz\r\n",
      "stepping\t: 0\r\n",
      "microcode\t: 0xffffffff\r\n",
      "cpu MHz\t\t: 2199.998\r\n",
      "cache size\t: 56320 KB\r\n",
      "physical id\t: 0\r\n",
      "siblings\t: 4\r\n",
      "core id\t\t: 1\r\n",
      "cpu cores\t: 2\r\n",
      "apicid\t\t: 2\r\n",
      "initial apicid\t: 2\r\n",
      "fpu\t\t: yes\r\n",
      "fpu_exception\t: yes\r\n",
      "cpuid level\t: 13\r\n",
      "wp\t\t: yes\r\n",
      "flags\t\t: fpu vme de pse tsc msr pae mce cx8 apic sep mtrr pge mca cmov pat pse36 clflush mmx fxsr sse sse2 ss ht syscall nx pdpe1gb rdtscp lm constant_tsc rep_good nopl xtopology nonstop_tsc cpuid tsc_known_freq pni pclmulqdq ssse3 fma cx16 pcid sse4_1 sse4_2 x2apic movbe popcnt aes xsave avx f16c rdrand hypervisor lahf_lm abm 3dnowprefetch invpcid_single pti ssbd ibrs ibpb stibp fsgsbase tsc_adjust bmi1 hle avx2 smep bmi2 erms invpcid rtm rdseed adx smap xsaveopt arat md_clear arch_capabilities\r\n",
      "bugs\t\t: cpu_meltdown spectre_v1 spectre_v2 spec_store_bypass l1tf mds swapgs taa mmio_stale_data retbleed bhi\r\n",
      "bogomips\t: 4399.99\r\n",
      "clflush size\t: 64\r\n",
      "cache_alignment\t: 64\r\n",
      "address sizes\t: 46 bits physical, 48 bits virtual\r\n",
      "power management:\r\n",
      "\r\n",
      "processor\t: 2\r\n",
      "vendor_id\t: GenuineIntel\r\n",
      "cpu family\t: 6\r\n",
      "model\t\t: 79\r\n",
      "model name\t: Intel(R) Xeon(R) CPU @ 2.20GHz\r\n",
      "stepping\t: 0\r\n",
      "microcode\t: 0xffffffff\r\n",
      "cpu MHz\t\t: 2199.998\r\n",
      "cache size\t: 56320 KB\r\n",
      "physical id\t: 0\r\n",
      "siblings\t: 4\r\n",
      "core id\t\t: 0\r\n",
      "cpu cores\t: 2\r\n",
      "apicid\t\t: 1\r\n",
      "initial apicid\t: 1\r\n",
      "fpu\t\t: yes\r\n",
      "fpu_exception\t: yes\r\n",
      "cpuid level\t: 13\r\n",
      "wp\t\t: yes\r\n",
      "flags\t\t: fpu vme de pse tsc msr pae mce cx8 apic sep mtrr pge mca cmov pat pse36 clflush mmx fxsr sse sse2 ss ht syscall nx pdpe1gb rdtscp lm constant_tsc rep_good nopl xtopology nonstop_tsc cpuid tsc_known_freq pni pclmulqdq ssse3 fma cx16 pcid sse4_1 sse4_2 x2apic movbe popcnt aes xsave avx f16c rdrand hypervisor lahf_lm abm 3dnowprefetch invpcid_single pti ssbd ibrs ibpb stibp fsgsbase tsc_adjust bmi1 hle avx2 smep bmi2 erms invpcid rtm rdseed adx smap xsaveopt arat md_clear arch_capabilities\r\n",
      "bugs\t\t: cpu_meltdown spectre_v1 spectre_v2 spec_store_bypass l1tf mds swapgs taa mmio_stale_data retbleed bhi\r\n",
      "bogomips\t: 4399.99\r\n",
      "clflush size\t: 64\r\n",
      "cache_alignment\t: 64\r\n",
      "address sizes\t: 46 bits physical, 48 bits virtual\r\n",
      "power management:\r\n",
      "\r\n",
      "processor\t: 3\r\n",
      "vendor_id\t: GenuineIntel\r\n",
      "cpu family\t: 6\r\n",
      "model\t\t: 79\r\n",
      "model name\t: Intel(R) Xeon(R) CPU @ 2.20GHz\r\n",
      "stepping\t: 0\r\n",
      "microcode\t: 0xffffffff\r\n",
      "cpu MHz\t\t: 2199.998\r\n",
      "cache size\t: 56320 KB\r\n",
      "physical id\t: 0\r\n",
      "siblings\t: 4\r\n",
      "core id\t\t: 1\r\n",
      "cpu cores\t: 2\r\n",
      "apicid\t\t: 3\r\n",
      "initial apicid\t: 3\r\n",
      "fpu\t\t: yes\r\n",
      "fpu_exception\t: yes\r\n",
      "cpuid level\t: 13\r\n",
      "wp\t\t: yes\r\n",
      "flags\t\t: fpu vme de pse tsc msr pae mce cx8 apic sep mtrr pge mca cmov pat pse36 clflush mmx fxsr sse sse2 ss ht syscall nx pdpe1gb rdtscp lm constant_tsc rep_good nopl xtopology nonstop_tsc cpuid tsc_known_freq pni pclmulqdq ssse3 fma cx16 pcid sse4_1 sse4_2 x2apic movbe popcnt aes xsave avx f16c rdrand hypervisor lahf_lm abm 3dnowprefetch invpcid_single pti ssbd ibrs ibpb stibp fsgsbase tsc_adjust bmi1 hle avx2 smep bmi2 erms invpcid rtm rdseed adx smap xsaveopt arat md_clear arch_capabilities\r\n",
      "bugs\t\t: cpu_meltdown spectre_v1 spectre_v2 spec_store_bypass l1tf mds swapgs taa mmio_stale_data retbleed bhi\r\n",
      "bogomips\t: 4399.99\r\n",
      "clflush size\t: 64\r\n",
      "cache_alignment\t: 64\r\n",
      "address sizes\t: 46 bits physical, 48 bits virtual\r\n",
      "power management:\r\n",
      "\r\n"
     ]
    }
   ],
   "source": [
    "!cat /proc/cpuinfo"
   ]
  },
  {
   "cell_type": "code",
   "execution_count": 6,
   "id": "a01a80cb",
   "metadata": {
    "execution": {
     "iopub.execute_input": "2024-08-26T10:56:46.817712Z",
     "iopub.status.busy": "2024-08-26T10:56:46.816730Z",
     "iopub.status.idle": "2024-08-26T10:56:48.823365Z",
     "shell.execute_reply": "2024-08-26T10:56:48.821697Z"
    },
    "papermill": {
     "duration": 2.038169,
     "end_time": "2024-08-26T10:56:48.826679",
     "exception": false,
     "start_time": "2024-08-26T10:56:46.788510",
     "status": "completed"
    },
    "tags": []
   },
   "outputs": [],
   "source": [
    "try :\n",
    "    import autosklearn\n",
    "except :\n",
    "    try :\n",
    "        import autosklearn\n",
    "    except :\n",
    "        pass"
   ]
  },
  {
   "cell_type": "code",
   "execution_count": 7,
   "id": "405e13b8",
   "metadata": {
    "execution": {
     "iopub.execute_input": "2024-08-26T10:56:48.882531Z",
     "iopub.status.busy": "2024-08-26T10:56:48.882013Z",
     "iopub.status.idle": "2024-08-26T10:56:52.175946Z",
     "shell.execute_reply": "2024-08-26T10:56:52.174184Z"
    },
    "papermill": {
     "duration": 3.326319,
     "end_time": "2024-08-26T10:56:52.179746",
     "exception": false,
     "start_time": "2024-08-26T10:56:48.853427",
     "status": "completed"
    },
    "tags": []
   },
   "outputs": [
    {
     "data": {
      "text/html": [
       "<style type='text/css'>\n",
       ".datatable table.frame { margin-bottom: 0; }\n",
       ".datatable table.frame thead { border-bottom: none; }\n",
       ".datatable table.frame tr.coltypes td {  color: #FFFFFF;  line-height: 6px;  padding: 0 0.5em;}\n",
       ".datatable .bool    { background: #DDDD99; }\n",
       ".datatable .object  { background: #565656; }\n",
       ".datatable .int     { background: #5D9E5D; }\n",
       ".datatable .float   { background: #4040CC; }\n",
       ".datatable .str     { background: #CC4040; }\n",
       ".datatable .time    { background: #40CC40; }\n",
       ".datatable .row_index {  background: var(--jp-border-color3);  border-right: 1px solid var(--jp-border-color0);  color: var(--jp-ui-font-color3);  font-size: 9px;}\n",
       ".datatable .frame tbody td { text-align: left; }\n",
       ".datatable .frame tr.coltypes .row_index {  background: var(--jp-border-color0);}\n",
       ".datatable th:nth-child(2) { padding-left: 12px; }\n",
       ".datatable .hellipsis {  color: var(--jp-cell-editor-border-color);}\n",
       ".datatable .vellipsis {  background: var(--jp-layout-color0);  color: var(--jp-cell-editor-border-color);}\n",
       ".datatable .na {  color: var(--jp-cell-editor-border-color);  font-size: 80%;}\n",
       ".datatable .sp {  opacity: 0.25;}\n",
       ".datatable .footer { font-size: 9px; }\n",
       ".datatable .frame_dimensions {  background: var(--jp-border-color3);  border-top: 1px solid var(--jp-border-color0);  color: var(--jp-ui-font-color3);  display: inline-block;  opacity: 0.6;  padding: 1px 10px 1px 5px;}\n",
       "</style>\n"
      ],
      "text/plain": [
       "<IPython.core.display.HTML object>"
      ]
     },
     "metadata": {},
     "output_type": "display_data"
    }
   ],
   "source": [
    "from autosklearn.regression import AutoSklearnRegressor\n",
    "from autosklearn.classification import AutoSklearnClassifier\n",
    "from sklearn.cluster import KMeans, SpectralClustering, AgglomerativeClustering\n",
    "from sklearn.feature_selection import RFECV\n",
    "from sklearn.metrics import silhouette_score, calinski_harabasz_score, davies_bouldin_score\n",
    "import numpy as np\n",
    "import pandas as pd\n",
    "import time\n",
    "from sklearn.model_selection import train_test_split\n",
    "from sklearn.metrics import accuracy_score, confusion_matrix, classification_report, f1_score, accuracy_score, precision_score, recall_score, r2_score, mean_absolute_error, mean_squared_error \n",
    "from sklearn.preprocessing import StandardScaler\n",
    "from sklearn.model_selection import cross_val_score\n",
    "from sklearn.linear_model import LogisticRegression\n",
    "from sklearn.tree import DecisionTreeClassifier, DecisionTreeRegressor\n",
    "from sklearn.ensemble import RandomForestClassifier, ExtraTreesClassifier, AdaBoostClassifier, GradientBoostingClassifier, RandomForestRegressor, ExtraTreesRegressor, GradientBoostingRegressor\n",
    "from xgboost import XGBClassifier, XGBRegressor\n",
    "from sklearn.svm import SVC\n",
    "from lightgbm import LGBMClassifier,  LGBMRegressor\n",
    "from bayes_opt import BayesianOptimization"
   ]
  },
  {
   "cell_type": "code",
   "execution_count": 8,
   "id": "a7a4dfa7",
   "metadata": {
    "execution": {
     "iopub.execute_input": "2024-08-26T10:56:52.259046Z",
     "iopub.status.busy": "2024-08-26T10:56:52.257523Z",
     "iopub.status.idle": "2024-08-26T10:56:55.692499Z",
     "shell.execute_reply": "2024-08-26T10:56:55.690546Z"
    },
    "papermill": {
     "duration": 3.475827,
     "end_time": "2024-08-26T10:56:55.695171",
     "exception": true,
     "start_time": "2024-08-26T10:56:52.219344",
     "status": "failed"
    },
    "tags": []
   },
   "outputs": [
    {
     "ename": "NameError",
     "evalue": "name 'resample' is not defined",
     "output_type": "error",
     "traceback": [
      "\u001b[0;31m---------------------------------------------------------------------------\u001b[0m",
      "\u001b[0;31mNameError\u001b[0m                                 Traceback (most recent call last)",
      "\u001b[0;32m/tmp/ipykernel_20/2609148952.py\u001b[0m in \u001b[0;36m<module>\u001b[0;34m\u001b[0m\n\u001b[1;32m     15\u001b[0m \u001b[0mX_scaled\u001b[0m \u001b[0;34m=\u001b[0m \u001b[0mscaler\u001b[0m\u001b[0;34m.\u001b[0m\u001b[0mfit_transform\u001b[0m\u001b[0;34m(\u001b[0m\u001b[0mX\u001b[0m\u001b[0;34m)\u001b[0m\u001b[0;34m\u001b[0m\u001b[0;34m\u001b[0m\u001b[0m\n\u001b[1;32m     16\u001b[0m \u001b[0;34m\u001b[0m\u001b[0m\n\u001b[0;32m---> 17\u001b[0;31m \u001b[0mX_resampled\u001b[0m\u001b[0;34m,\u001b[0m \u001b[0my_resampled\u001b[0m \u001b[0;34m=\u001b[0m \u001b[0mresample\u001b[0m\u001b[0;34m(\u001b[0m\u001b[0mX_scaled\u001b[0m\u001b[0;34m,\u001b[0m \u001b[0my\u001b[0m\u001b[0;34m,\u001b[0m \u001b[0mreplace\u001b[0m\u001b[0;34m=\u001b[0m\u001b[0;32mTrue\u001b[0m\u001b[0;34m,\u001b[0m \u001b[0mn_samples\u001b[0m\u001b[0;34m=\u001b[0m\u001b[0mlen\u001b[0m\u001b[0;34m(\u001b[0m\u001b[0my\u001b[0m\u001b[0;34m==\u001b[0m\u001b[0;36m1\u001b[0m\u001b[0;34m)\u001b[0m\u001b[0;34m,\u001b[0m \u001b[0mrandom_state\u001b[0m\u001b[0;34m=\u001b[0m\u001b[0;36m42\u001b[0m\u001b[0;34m)\u001b[0m\u001b[0;34m\u001b[0m\u001b[0;34m\u001b[0m\u001b[0m\n\u001b[0m\u001b[1;32m     18\u001b[0m \u001b[0mX_train_resampled\u001b[0m\u001b[0;34m,\u001b[0m \u001b[0mX_test_resampled\u001b[0m\u001b[0;34m,\u001b[0m \u001b[0my_train_resampled\u001b[0m\u001b[0;34m,\u001b[0m \u001b[0my_test_resampled\u001b[0m \u001b[0;34m=\u001b[0m \u001b[0mtrain_test_split\u001b[0m\u001b[0;34m(\u001b[0m\u001b[0mX_resampled\u001b[0m\u001b[0;34m,\u001b[0m \u001b[0my_resampled\u001b[0m\u001b[0;34m,\u001b[0m \u001b[0mtest_size\u001b[0m\u001b[0;34m=\u001b[0m\u001b[0;36m0.3\u001b[0m\u001b[0;34m,\u001b[0m \u001b[0mrandom_state\u001b[0m\u001b[0;34m=\u001b[0m\u001b[0;36m42\u001b[0m\u001b[0;34m)\u001b[0m\u001b[0;34m\u001b[0m\u001b[0;34m\u001b[0m\u001b[0m\n",
      "\u001b[0;31mNameError\u001b[0m: name 'resample' is not defined"
     ]
    }
   ],
   "source": [
    "df_fire = pd.read_csv(\"/kaggle/input/forest-fire-risk-prediction/gds_fire_30mm.csv\")\n",
    "df_nofire = pd.read_csv(\"/kaggle/input/forest-fire-risk-prediction/gds_nofire_30mm.csv\")\n",
    "\n",
    "df = pd.concat([df_fire,df_nofire])\n",
    "\n",
    "features = ['system:index', 'days', 'evisum', 'ndwisum', 'ndvisum', 'lstsum', '.geo', 'time']\n",
    "df = df.drop(features, axis = 1)\n",
    "\n",
    "df = df[df.apply(lambda row: row.isin([-99999.000000]).sum() == 0, axis=1)] \n",
    "\n",
    "# 加载数据集并进行标准化处理\n",
    "X = df.drop(['labels'], axis = 1).values\n",
    "y = df['labels'].values\n",
    "scaler = StandardScaler()\n",
    "X_scaled = scaler.fit_transform(X)\n",
    "  \n",
    "X_resampled, y_resampled = resample(X_scaled, y, replace=True, n_samples=len(y==1), random_state=42)  \n",
    "X_train_resampled, X_test_resampled, y_train_resampled, y_test_resampled = train_test_split(X_resampled, y_resampled, test_size=0.3, random_state=42)"
   ]
  },
  {
   "cell_type": "code",
   "execution_count": null,
   "id": "e0708b39",
   "metadata": {
    "execution": {
     "iopub.execute_input": "2024-06-22T03:31:27.447833Z",
     "iopub.status.busy": "2024-06-22T03:31:27.446688Z",
     "iopub.status.idle": "2024-06-22T03:41:24.725070Z",
     "shell.execute_reply": "2024-06-22T03:41:24.723079Z",
     "shell.execute_reply.started": "2024-06-22T03:31:27.447775Z"
    },
    "papermill": {
     "duration": null,
     "end_time": null,
     "exception": null,
     "start_time": null,
     "status": "pending"
    },
    "tags": []
   },
   "outputs": [],
   "source": [
    "automl = AutoSklearnClassifier(\n",
    "    time_left_for_this_task=120*5,\n",
    "    per_run_time_limit=30,\n",
    "    metric=autosklearn.metrics.accuracy,\n",
    "    seed=42,\n",
    "    resampling_strategy='cv',\n",
    "    resampling_strategy_arguments={'folds': 5}\n",
    ")\n",
    "automl.fit(X_train_resampled, y_train_resampled)\n",
    "automl.leaderboard(detailed = True, ensemble_only=False)\n",
    "print(automl.sprint_statistics())"
   ]
  },
  {
   "cell_type": "code",
   "execution_count": null,
   "id": "da5411b5",
   "metadata": {
    "execution": {
     "iopub.execute_input": "2024-06-22T03:41:24.728007Z",
     "iopub.status.busy": "2024-06-22T03:41:24.727468Z",
     "iopub.status.idle": "2024-06-22T03:41:24.791483Z",
     "shell.execute_reply": "2024-06-22T03:41:24.789651Z",
     "shell.execute_reply.started": "2024-06-22T03:41:24.727954Z"
    },
    "papermill": {
     "duration": null,
     "end_time": null,
     "exception": null,
     "start_time": null,
     "status": "pending"
    },
    "tags": []
   },
   "outputs": [],
   "source": [
    "print(automl.show_models())"
   ]
  },
  {
   "cell_type": "code",
   "execution_count": null,
   "id": "f46b05ee",
   "metadata": {
    "execution": {
     "iopub.execute_input": "2024-06-22T03:41:24.793964Z",
     "iopub.status.busy": "2024-06-22T03:41:24.793369Z",
     "iopub.status.idle": "2024-06-22T03:41:27.910312Z",
     "shell.execute_reply": "2024-06-22T03:41:27.908067Z",
     "shell.execute_reply.started": "2024-06-22T03:41:24.793893Z"
    },
    "papermill": {
     "duration": null,
     "end_time": null,
     "exception": null,
     "start_time": null,
     "status": "pending"
    },
    "tags": []
   },
   "outputs": [],
   "source": [
    "predictions = automl.predict(X_test_resampled)"
   ]
  },
  {
   "cell_type": "code",
   "execution_count": null,
   "id": "ccd586e2",
   "metadata": {
    "execution": {
     "iopub.execute_input": "2024-06-22T03:41:27.925564Z",
     "iopub.status.busy": "2024-06-22T03:41:27.923806Z",
     "iopub.status.idle": "2024-06-22T03:41:27.965127Z",
     "shell.execute_reply": "2024-06-22T03:41:27.962228Z",
     "shell.execute_reply.started": "2024-06-22T03:41:27.925439Z"
    },
    "papermill": {
     "duration": null,
     "end_time": null,
     "exception": null,
     "start_time": null,
     "status": "pending"
    },
    "tags": []
   },
   "outputs": [],
   "source": [
    "accuracy = accuracy_score(y_test_resampled, predictions).round(5)\n",
    "precision = precision_score(y_test_resampled, predictions).round(5)\n",
    "recall = recall_score(y_test_resampled, predictions).round(5) \n",
    "f1 = f1_score(y_test_resampled, predictions).round(5)\n",
    "roc_auc = roc_auc_score(y_test_resampled, predictions).round(5)\n",
    "\n",
    "print(f'Accuracy: {accuracy}')\n",
    "print(f'Precision: {precision}')\n",
    "print(f'Recall: {recall}')\n",
    "print(f'F1: {f1}')\n",
    "print(f'ROC_AUC: {roc_auc}')"
   ]
  },
  {
   "cell_type": "code",
   "execution_count": null,
   "id": "e10a12f6",
   "metadata": {
    "execution": {
     "iopub.execute_input": "2024-06-22T03:41:27.972920Z",
     "iopub.status.busy": "2024-06-22T03:41:27.969496Z",
     "iopub.status.idle": "2024-06-22T03:51:21.499234Z",
     "shell.execute_reply": "2024-06-22T03:51:21.497236Z",
     "shell.execute_reply.started": "2024-06-22T03:41:27.972711Z"
    },
    "papermill": {
     "duration": null,
     "end_time": null,
     "exception": null,
     "start_time": null,
     "status": "pending"
    },
    "tags": []
   },
   "outputs": [],
   "source": [
    "from sklearn.feature_selection import SelectKBest, mutual_info_classif   \n",
    "from xgboost import XGBClassifier\n",
    "from sklearn.feature_selection import RFECV\n",
    "import lightgbm as lgbm\n",
    "from sklearn.base import clone  \n",
    "import numpy as np  \n",
    "  \n",
    "# 定义基于互信息增益的初步特征选择器  \n",
    "def select_features_by_mi(X, y, k):  \n",
    "    selector = SelectKBest(mutual_info_classif, k=k)  \n",
    "    X_new = selector.fit_transform(X, y)  \n",
    "    selected_feature_indices = np.where(selector.get_support())[0]  \n",
    "    return X_new, selected_feature_indices  \n",
    "  \n",
    "# 定义基于RFECV的特征选择器  \n",
    "def select_features_by_rfecv(X, y, estimator, cv=5):  \n",
    "    selector = RFECV(estimator=estimator, step=1, cv=cv, scoring='accuracy')  \n",
    "    selector.fit(X, y)  \n",
    "    selected_feature_indices = np.where(selector.support_)[0]  \n",
    "    return selector.transform(X), selected_feature_indices  \n",
    "  \n",
    "# 结合互信息增益和RFECV的特征选择算法  \n",
    "def combined_feature_selection(X, y, k_mi, estimator, cv=5, n_repeats=10):  \n",
    "    selected_feature_indices_all_runs = []  \n",
    "      \n",
    "    # 重复运行特征选择以提高稳定性  \n",
    "    for repetition in range(n_repeats):  \n",
    "        # 第一阶段：使用互信息增益选择特征  \n",
    "        X_mi, selected_feature_indices_mi = select_features_by_mi(X, y, k_mi)  \n",
    "          \n",
    "        # 第二阶段：在互信息增益选择的特征上使用RFECV进一步选择特征  \n",
    "        if X_mi.shape[1] > 1:  \n",
    "            X_rfecv, selected_feature_indices_rfecv = select_features_by_rfecv(X_mi, y, clone(estimator), cv=cv)  \n",
    "            # 将RFECV选择的特征映射回原始特征索引  \n",
    "            selected_feature_indices = selected_feature_indices_mi[selected_feature_indices_rfecv]  \n",
    "        else:  \n",
    "            selected_feature_indices = selected_feature_indices_mi  \n",
    "            X_rfecv = X_mi  \n",
    "          \n",
    "        selected_feature_indices_all_runs.append(selected_feature_indices)  \n",
    "      \n",
    "    # 聚合多次运行的结果，例如通过投票  \n",
    "    feature_votes = np.zeros(X.shape[1], dtype=int)  \n",
    "    for feature_indices in selected_feature_indices_all_runs:  \n",
    "        feature_votes[feature_indices] += 1  \n",
    "      \n",
    "    # 选择在大多数运行中都被选中的特征，例如超过一半的运行  \n",
    "    selected_feature_indices_final = np.where(feature_votes > (n_repeats / 2))[0]  \n",
    "      \n",
    "    return X[:, selected_feature_indices_final], selected_feature_indices_final  \n",
    "  \n",
    "# 选择一个估计器 \n",
    "estimator = lgbm.LGBMClassifier(random_state=42) \n",
    "  \n",
    "# 执行特征选择  \n",
    "X_selected, selected_feature_indices = combined_feature_selection(X_scaled, y, k_mi=16, estimator=estimator)  \n",
    "print(\"Selected feature indices:\", selected_feature_indices)"
   ]
  },
  {
   "cell_type": "code",
   "execution_count": null,
   "id": "0e61f454",
   "metadata": {
    "execution": {
     "iopub.execute_input": "2024-06-22T03:51:21.501903Z",
     "iopub.status.busy": "2024-06-22T03:51:21.501365Z",
     "iopub.status.idle": "2024-06-22T03:51:21.521204Z",
     "shell.execute_reply": "2024-06-22T03:51:21.519335Z",
     "shell.execute_reply.started": "2024-06-22T03:51:21.501842Z"
    },
    "papermill": {
     "duration": null,
     "end_time": null,
     "exception": null,
     "start_time": null,
     "status": "pending"
    },
    "tags": []
   },
   "outputs": [],
   "source": [
    "feature_migd_rfecv = df.columns.drop(['labels'])[[selected_feature_indices]].values\n",
    "feature_migd_rfecv"
   ]
  },
  {
   "cell_type": "code",
   "execution_count": null,
   "id": "bec15b4d",
   "metadata": {
    "execution": {
     "iopub.execute_input": "2024-06-22T03:51:21.524114Z",
     "iopub.status.busy": "2024-06-22T03:51:21.523474Z",
     "iopub.status.idle": "2024-06-22T03:51:21.541715Z",
     "shell.execute_reply": "2024-06-22T03:51:21.539926Z",
     "shell.execute_reply.started": "2024-06-22T03:51:21.524045Z"
    },
    "papermill": {
     "duration": null,
     "end_time": null,
     "exception": null,
     "start_time": null,
     "status": "pending"
    },
    "tags": []
   },
   "outputs": [],
   "source": [
    "migd_rfecv_df = pd.concat([df[feature_migd_rfecv], df['labels']], axis=1)"
   ]
  },
  {
   "cell_type": "code",
   "execution_count": null,
   "id": "ed468e67",
   "metadata": {
    "execution": {
     "iopub.execute_input": "2024-06-22T03:51:21.544661Z",
     "iopub.status.busy": "2024-06-22T03:51:21.544089Z",
     "iopub.status.idle": "2024-06-22T03:51:21.569369Z",
     "shell.execute_reply": "2024-06-22T03:51:21.567176Z",
     "shell.execute_reply.started": "2024-06-22T03:51:21.544601Z"
    },
    "papermill": {
     "duration": null,
     "end_time": null,
     "exception": null,
     "start_time": null,
     "status": "pending"
    },
    "tags": []
   },
   "outputs": [],
   "source": [
    "# 加载数据集并进行标准化处理\n",
    "X_migd_rfecv = migd_rfecv_df.drop(['labels'], axis = 1).values\n",
    "y_migd_rfecv = migd_rfecv_df['labels'].values\n",
    "scaler = StandardScaler()\n",
    "X_scaled_migd_rfecv = scaler.fit_transform(X_migd_rfecv)\n",
    "\n",
    "X_resampled, y_resampled = resample(X_scaled_migd_rfecv, y_migd_rfecv, replace=True, n_samples=len(y==1), random_state=42)  \n",
    "X_train_resampled, X_test_resampled, y_train_resampled, y_test_resampled = train_test_split(X_resampled, y_resampled, test_size=0.3, random_state=42)"
   ]
  },
  {
   "cell_type": "code",
   "execution_count": null,
   "id": "d9c58fd1",
   "metadata": {
    "execution": {
     "iopub.execute_input": "2024-06-22T03:51:21.576151Z",
     "iopub.status.busy": "2024-06-22T03:51:21.575594Z",
     "iopub.status.idle": "2024-06-22T04:01:24.089232Z",
     "shell.execute_reply": "2024-06-22T04:01:24.087323Z",
     "shell.execute_reply.started": "2024-06-22T03:51:21.576103Z"
    },
    "papermill": {
     "duration": null,
     "end_time": null,
     "exception": null,
     "start_time": null,
     "status": "pending"
    },
    "tags": []
   },
   "outputs": [],
   "source": [
    "automl = AutoSklearnClassifier(\n",
    "    time_left_for_this_task=120*5,\n",
    "    per_run_time_limit=30,\n",
    "    metric=autosklearn.metrics.accuracy,\n",
    "    seed=42,\n",
    "    resampling_strategy='cv',\n",
    "    resampling_strategy_arguments={'folds': 5}\n",
    ")\n",
    "automl.fit(X_train_resampled, y_train_resampled)\n",
    "automl.leaderboard(detailed = True, ensemble_only=False)\n",
    "print(automl.sprint_statistics())"
   ]
  },
  {
   "cell_type": "code",
   "execution_count": null,
   "id": "a4d7c4e6",
   "metadata": {
    "execution": {
     "iopub.execute_input": "2024-06-22T04:01:24.092579Z",
     "iopub.status.busy": "2024-06-22T04:01:24.091965Z",
     "iopub.status.idle": "2024-06-22T04:01:24.154438Z",
     "shell.execute_reply": "2024-06-22T04:01:24.152796Z",
     "shell.execute_reply.started": "2024-06-22T04:01:24.092511Z"
    },
    "papermill": {
     "duration": null,
     "end_time": null,
     "exception": null,
     "start_time": null,
     "status": "pending"
    },
    "tags": []
   },
   "outputs": [],
   "source": [
    "print(automl.show_models())"
   ]
  },
  {
   "cell_type": "code",
   "execution_count": null,
   "id": "b20359af",
   "metadata": {
    "execution": {
     "iopub.execute_input": "2024-06-22T04:01:24.157271Z",
     "iopub.status.busy": "2024-06-22T04:01:24.156748Z",
     "iopub.status.idle": "2024-06-22T04:01:31.645883Z",
     "shell.execute_reply": "2024-06-22T04:01:31.644176Z",
     "shell.execute_reply.started": "2024-06-22T04:01:24.157215Z"
    },
    "papermill": {
     "duration": null,
     "end_time": null,
     "exception": null,
     "start_time": null,
     "status": "pending"
    },
    "tags": []
   },
   "outputs": [],
   "source": [
    "pred = automl.predict(X_test_resampled)\n",
    "accuracy = accuracy_score(y_test_resampled, pred).round(5)\n",
    "precision = precision_score(y_test_resampled, pred).round(5)\n",
    "recall = recall_score(y_test_resampled, pred).round(5) \n",
    "f1 = f1_score(y_test_resampled, pred).round(5)\n",
    "roc_auc = roc_auc_score(y_test_resampled, pred).round(5)\n",
    "\n",
    "print(f'Accuracy: {accuracy}')\n",
    "print(f'Precision: {precision}')\n",
    "print(f'Recall: {recall}')\n",
    "print(f'F1: {f1}')\n",
    "print(f'ROC_AUC: {roc_auc}')"
   ]
  },
  {
   "cell_type": "code",
   "execution_count": null,
   "id": "16b5cac0",
   "metadata": {
    "execution": {
     "iopub.execute_input": "2024-06-22T04:01:31.649289Z",
     "iopub.status.busy": "2024-06-22T04:01:31.648636Z",
     "iopub.status.idle": "2024-06-22T04:01:31.702425Z",
     "shell.execute_reply": "2024-06-22T04:01:31.699504Z",
     "shell.execute_reply.started": "2024-06-22T04:01:31.649221Z"
    },
    "papermill": {
     "duration": null,
     "end_time": null,
     "exception": null,
     "start_time": null,
     "status": "pending"
    },
    "tags": []
   },
   "outputs": [],
   "source": [
    "from sklearn.linear_model import Lasso \n",
    "\n",
    "lasso = Lasso(alpha=0.1)  # alpha是正则化强度的参数  \n",
    "lasso.fit(X_scaled, y)  \n",
    "  \n",
    "# 获取特征系数  \n",
    "coef = lasso.coef_  \n",
    "  \n",
    "# 找出被选择的特征（系数不为零的特征）  \n",
    "selected_features_lasso = [i for i, coef_i in enumerate(coef) if coef_i != 0]  \n",
    "  \n",
    "print(\"Selected features:\", selected_features_lasso)  "
   ]
  },
  {
   "cell_type": "code",
   "execution_count": null,
   "id": "92813b52",
   "metadata": {
    "execution": {
     "iopub.execute_input": "2024-06-22T04:01:31.706246Z",
     "iopub.status.busy": "2024-06-22T04:01:31.705667Z",
     "iopub.status.idle": "2024-06-22T04:01:31.741234Z",
     "shell.execute_reply": "2024-06-22T04:01:31.739467Z",
     "shell.execute_reply.started": "2024-06-22T04:01:31.706186Z"
    },
    "papermill": {
     "duration": null,
     "end_time": null,
     "exception": null,
     "start_time": null,
     "status": "pending"
    },
    "tags": []
   },
   "outputs": [],
   "source": [
    "feature_lasso = df.columns.drop(['labels'])[[selected_features_lasso]].values\n",
    "feature_lasso"
   ]
  },
  {
   "cell_type": "code",
   "execution_count": null,
   "id": "8d294ad6",
   "metadata": {
    "execution": {
     "iopub.execute_input": "2024-06-22T04:01:31.746507Z",
     "iopub.status.busy": "2024-06-22T04:01:31.745947Z",
     "iopub.status.idle": "2024-06-22T04:01:31.781103Z",
     "shell.execute_reply": "2024-06-22T04:01:31.777827Z",
     "shell.execute_reply.started": "2024-06-22T04:01:31.746454Z"
    },
    "papermill": {
     "duration": null,
     "end_time": null,
     "exception": null,
     "start_time": null,
     "status": "pending"
    },
    "tags": []
   },
   "outputs": [],
   "source": [
    "lasso_df = pd.concat([df[feature_lasso], df['labels']], axis=1)"
   ]
  },
  {
   "cell_type": "code",
   "execution_count": null,
   "id": "233a7847",
   "metadata": {
    "execution": {
     "iopub.execute_input": "2024-06-22T04:01:31.785517Z",
     "iopub.status.busy": "2024-06-22T04:01:31.784982Z",
     "iopub.status.idle": "2024-06-22T04:01:31.819710Z",
     "shell.execute_reply": "2024-06-22T04:01:31.818027Z",
     "shell.execute_reply.started": "2024-06-22T04:01:31.785461Z"
    },
    "papermill": {
     "duration": null,
     "end_time": null,
     "exception": null,
     "start_time": null,
     "status": "pending"
    },
    "tags": []
   },
   "outputs": [],
   "source": [
    "# 加载数据集并进行标准化处理\n",
    "X_lasso = lasso_df.drop(['labels'], axis = 1).values\n",
    "y_lasso = lasso_df['labels'].values\n",
    "scaler = StandardScaler()\n",
    "X_scaled_lasso = scaler.fit_transform(X_lasso)\n",
    "\n",
    "X_resampled, y_resampled = resample(X_scaled_lasso, y_lasso, replace=True, n_samples=len(y==1), random_state=42)  \n",
    "X_train_resampled, X_test_resampled, y_train_resampled, y_test_resampled = train_test_split(X_resampled, y_resampled, test_size=0.3, random_state=42)"
   ]
  },
  {
   "cell_type": "code",
   "execution_count": null,
   "id": "624d67d3",
   "metadata": {
    "execution": {
     "iopub.execute_input": "2024-06-22T04:01:31.822766Z",
     "iopub.status.busy": "2024-06-22T04:01:31.822177Z",
     "iopub.status.idle": "2024-06-22T04:11:32.315352Z",
     "shell.execute_reply": "2024-06-22T04:11:32.313125Z",
     "shell.execute_reply.started": "2024-06-22T04:01:31.822692Z"
    },
    "papermill": {
     "duration": null,
     "end_time": null,
     "exception": null,
     "start_time": null,
     "status": "pending"
    },
    "tags": []
   },
   "outputs": [],
   "source": [
    "automl = AutoSklearnClassifier(\n",
    "    time_left_for_this_task=120*5,\n",
    "    per_run_time_limit=30,\n",
    "    metric=autosklearn.metrics.accuracy,\n",
    "    seed=42,\n",
    "    resampling_strategy='cv',\n",
    "    resampling_strategy_arguments={'folds': 5}\n",
    ")\n",
    "automl.fit(X_train_resampled, y_train_resampled)\n",
    "automl.leaderboard(detailed = True, ensemble_only=False)\n",
    "print(automl.sprint_statistics())"
   ]
  },
  {
   "cell_type": "code",
   "execution_count": null,
   "id": "38965eba",
   "metadata": {
    "execution": {
     "iopub.execute_input": "2024-06-22T04:11:32.319245Z",
     "iopub.status.busy": "2024-06-22T04:11:32.318528Z",
     "iopub.status.idle": "2024-06-22T04:11:32.431416Z",
     "shell.execute_reply": "2024-06-22T04:11:32.429521Z",
     "shell.execute_reply.started": "2024-06-22T04:11:32.319170Z"
    },
    "papermill": {
     "duration": null,
     "end_time": null,
     "exception": null,
     "start_time": null,
     "status": "pending"
    },
    "tags": []
   },
   "outputs": [],
   "source": [
    "print(automl.show_models())"
   ]
  },
  {
   "cell_type": "code",
   "execution_count": null,
   "id": "273e0d94",
   "metadata": {
    "execution": {
     "iopub.execute_input": "2024-06-22T04:11:32.433964Z",
     "iopub.status.busy": "2024-06-22T04:11:32.433475Z",
     "iopub.status.idle": "2024-06-22T04:11:43.687614Z",
     "shell.execute_reply": "2024-06-22T04:11:43.685906Z",
     "shell.execute_reply.started": "2024-06-22T04:11:32.433917Z"
    },
    "papermill": {
     "duration": null,
     "end_time": null,
     "exception": null,
     "start_time": null,
     "status": "pending"
    },
    "tags": []
   },
   "outputs": [],
   "source": [
    "pred_lasso = automl.predict(X_test_resampled)\n",
    "accuracy = accuracy_score(y_test_resampled, pred_lasso).round(5)\n",
    "precision = precision_score(y_test_resampled, pred_lasso).round(5)\n",
    "recall = recall_score(y_test_resampled, pred_lasso).round(5) \n",
    "f1 = f1_score(y_test_resampled, pred_lasso).round(5)\n",
    "roc_auc = roc_auc_score(y_test_resampled, pred_lasso).round(5)\n",
    "\n",
    "print(f'Accuracy: {accuracy}')\n",
    "print(f'Precision: {precision}')\n",
    "print(f'Recall: {recall}')\n",
    "print(f'F1: {f1}')\n",
    "print(f'ROC_AUC: {roc_auc}')"
   ]
  },
  {
   "cell_type": "code",
   "execution_count": null,
   "id": "e5d652b7",
   "metadata": {
    "execution": {
     "iopub.execute_input": "2024-06-22T04:11:43.690205Z",
     "iopub.status.busy": "2024-06-22T04:11:43.689605Z",
     "iopub.status.idle": "2024-06-22T04:11:44.304314Z",
     "shell.execute_reply": "2024-06-22T04:11:44.302533Z",
     "shell.execute_reply.started": "2024-06-22T04:11:43.690145Z"
    },
    "papermill": {
     "duration": null,
     "end_time": null,
     "exception": null,
     "start_time": null,
     "status": "pending"
    },
    "tags": []
   },
   "outputs": [],
   "source": [
    "selector = SelectKBest(mutual_info_classif, k=16)  \n",
    "  \n",
    "# 训练选择器  \n",
    "X_new = selector.fit_transform(X_scaled, y)  \n",
    "  \n",
    "# 获取被选择的特征索引  \n",
    "selected_indices_mir = selector.get_support(indices=True)  \n",
    "  \n",
    "# 输出被选择的特征索引  \n",
    "print(\"Selected feature indices:\", selected_indices_mir)  "
   ]
  },
  {
   "cell_type": "code",
   "execution_count": null,
   "id": "cfd6c66d",
   "metadata": {
    "execution": {
     "iopub.execute_input": "2024-06-22T04:11:44.306769Z",
     "iopub.status.busy": "2024-06-22T04:11:44.306287Z",
     "iopub.status.idle": "2024-06-22T04:11:44.330422Z",
     "shell.execute_reply": "2024-06-22T04:11:44.328874Z",
     "shell.execute_reply.started": "2024-06-22T04:11:44.306696Z"
    },
    "papermill": {
     "duration": null,
     "end_time": null,
     "exception": null,
     "start_time": null,
     "status": "pending"
    },
    "tags": []
   },
   "outputs": [],
   "source": [
    "feature_mir = df.columns.drop(['labels'])[[selected_indices_mir]].values\n",
    "feature_mir"
   ]
  },
  {
   "cell_type": "code",
   "execution_count": null,
   "id": "f2d3f0de",
   "metadata": {
    "execution": {
     "iopub.execute_input": "2024-06-22T04:11:44.334441Z",
     "iopub.status.busy": "2024-06-22T04:11:44.333044Z",
     "iopub.status.idle": "2024-06-22T04:11:44.360471Z",
     "shell.execute_reply": "2024-06-22T04:11:44.357900Z",
     "shell.execute_reply.started": "2024-06-22T04:11:44.334374Z"
    },
    "papermill": {
     "duration": null,
     "end_time": null,
     "exception": null,
     "start_time": null,
     "status": "pending"
    },
    "tags": []
   },
   "outputs": [],
   "source": [
    "mir_df = pd.concat([df[feature_mir], df['labels']], axis=1)\n",
    "\n",
    "# 加载数据集并进行标准化处理\n",
    "X_mir = mir_df.drop(['labels'], axis = 1).values\n",
    "y_mir = mir_df['labels'].values\n",
    "scaler = StandardScaler()\n",
    "X_scaled_mir = scaler.fit_transform(X_mir)\n",
    "\n",
    "X_resampled, y_resampled = resample(X_scaled_mir, y_mir, replace=True, n_samples=len(y==1), random_state=42)  \n",
    "X_train_resampled, X_test_resampled, y_train_resampled, y_test_resampled = train_test_split(X_resampled, y_resampled, test_size=0.3, random_state=42)"
   ]
  },
  {
   "cell_type": "code",
   "execution_count": null,
   "id": "0c37bb70",
   "metadata": {
    "execution": {
     "iopub.execute_input": "2024-06-22T04:11:44.369939Z",
     "iopub.status.busy": "2024-06-22T04:11:44.367898Z",
     "iopub.status.idle": "2024-06-22T04:21:50.084599Z",
     "shell.execute_reply": "2024-06-22T04:21:50.082825Z",
     "shell.execute_reply.started": "2024-06-22T04:11:44.369807Z"
    },
    "papermill": {
     "duration": null,
     "end_time": null,
     "exception": null,
     "start_time": null,
     "status": "pending"
    },
    "tags": []
   },
   "outputs": [],
   "source": [
    "automl = AutoSklearnClassifier(\n",
    "    time_left_for_this_task=120*5,\n",
    "    per_run_time_limit=30,\n",
    "    metric=autosklearn.metrics.accuracy,\n",
    "    seed=42,\n",
    "    resampling_strategy='cv',\n",
    "    resampling_strategy_arguments={'folds': 5}\n",
    ")\n",
    "automl.fit(X_train_resampled, y_train_resampled)\n",
    "automl.leaderboard(detailed = True, ensemble_only=False)\n",
    "print(automl.sprint_statistics())"
   ]
  },
  {
   "cell_type": "code",
   "execution_count": null,
   "id": "cd663359",
   "metadata": {
    "execution": {
     "iopub.execute_input": "2024-06-22T04:21:50.087877Z",
     "iopub.status.busy": "2024-06-22T04:21:50.087364Z",
     "iopub.status.idle": "2024-06-22T04:21:50.163406Z",
     "shell.execute_reply": "2024-06-22T04:21:50.161508Z",
     "shell.execute_reply.started": "2024-06-22T04:21:50.087828Z"
    },
    "papermill": {
     "duration": null,
     "end_time": null,
     "exception": null,
     "start_time": null,
     "status": "pending"
    },
    "tags": []
   },
   "outputs": [],
   "source": [
    "print(automl.show_models())"
   ]
  },
  {
   "cell_type": "code",
   "execution_count": null,
   "id": "36b1b3bd",
   "metadata": {
    "execution": {
     "iopub.execute_input": "2024-06-22T04:21:50.166239Z",
     "iopub.status.busy": "2024-06-22T04:21:50.165724Z",
     "iopub.status.idle": "2024-06-22T04:21:56.647219Z",
     "shell.execute_reply": "2024-06-22T04:21:56.645410Z",
     "shell.execute_reply.started": "2024-06-22T04:21:50.166190Z"
    },
    "papermill": {
     "duration": null,
     "end_time": null,
     "exception": null,
     "start_time": null,
     "status": "pending"
    },
    "tags": []
   },
   "outputs": [],
   "source": [
    "pred_mir = automl.predict(X_test_resampled)\n",
    "accuracy = accuracy_score(y_test_resampled, pred_mir).round(5)\n",
    "precision = precision_score(y_test_resampled, pred_mir).round(5)\n",
    "recall = recall_score(y_test_resampled, pred_mir).round(5) \n",
    "f1 = f1_score(y_test_resampled, pred_mir).round(5)\n",
    "roc_auc = roc_auc_score(y_test_resampled, pred_mir).round(5)\n",
    "\n",
    "print(f'Accuracy: {accuracy}')\n",
    "print(f'Precision: {precision}')\n",
    "print(f'Recall: {recall}')\n",
    "print(f'F1: {f1}')\n",
    "print(f'ROC_AUC: {roc_auc}')"
   ]
  },
  {
   "cell_type": "code",
   "execution_count": null,
   "id": "9aa31c9e",
   "metadata": {
    "execution": {
     "iopub.execute_input": "2024-06-22T04:21:56.661160Z",
     "iopub.status.busy": "2024-06-22T04:21:56.659892Z",
     "iopub.status.idle": "2024-06-22T04:21:56.677937Z",
     "shell.execute_reply": "2024-06-22T04:21:56.676100Z",
     "shell.execute_reply.started": "2024-06-22T04:21:56.661089Z"
    },
    "papermill": {
     "duration": null,
     "end_time": null,
     "exception": null,
     "start_time": null,
     "status": "pending"
    },
    "tags": []
   },
   "outputs": [],
   "source": [
    "from sklearn.feature_selection import SelectKBest, mutual_info_classif\n",
    "from sklearn.tree import DecisionTreeClassifier\n",
    "\n",
    "def feature_selection_mirdtr(X, y):\n",
    "    # 计算每个特征与目标变量之间的互信息得分\n",
    "    selector = SelectKBest(score_func=mutual_info_classif, k=18)\n",
    "    X_new = selector.fit_transform(X, y)\n",
    "    \n",
    "    # 构建决策树回归模型\n",
    "    tree = DecisionTreeClassifier(random_state = 42)\n",
    "    tree.fit(X_new, y)\n",
    "    \n",
    "    # 输出特征重要性\n",
    "    feature_importances = tree.feature_importances_\n",
    "        \n",
    "    # 根据重要性排序特征索引\n",
    "    sorted_indices_mirdtr = feature_importances.argsort()[::-1]\n",
    "    \n",
    "    # 输出特征排序结果\n",
    "    for i in sorted_indices_mirdtr:\n",
    "        print(f\"Feature {i}: Importance {feature_importances[i]}\")\n",
    "        \n",
    "    # 返回排名前k个重要特征的索引\n",
    "    R = 12  \n",
    "    selected_indices_mirdtr = sorted_indices_mirdtr[:R]\n",
    "    return selected_indices_mirdtr"
   ]
  },
  {
   "cell_type": "code",
   "execution_count": null,
   "id": "1a01491f",
   "metadata": {
    "execution": {
     "iopub.execute_input": "2024-06-22T04:21:56.681509Z",
     "iopub.status.busy": "2024-06-22T04:21:56.680865Z",
     "iopub.status.idle": "2024-06-22T04:21:57.426233Z",
     "shell.execute_reply": "2024-06-22T04:21:57.424587Z",
     "shell.execute_reply.started": "2024-06-22T04:21:56.681451Z"
    },
    "papermill": {
     "duration": null,
     "end_time": null,
     "exception": null,
     "start_time": null,
     "status": "pending"
    },
    "tags": []
   },
   "outputs": [],
   "source": [
    "selected_indices_mirdtr = feature_selection_mirdtr(X_scaled, y)\n",
    "feature_mirdtr = df.columns.drop(['labels'])[[selected_indices_mirdtr]].values\n",
    "feature_mirdtr"
   ]
  },
  {
   "cell_type": "code",
   "execution_count": null,
   "id": "87d58994",
   "metadata": {
    "execution": {
     "iopub.execute_input": "2024-06-22T04:21:57.429357Z",
     "iopub.status.busy": "2024-06-22T04:21:57.428716Z",
     "iopub.status.idle": "2024-06-22T04:21:57.454607Z",
     "shell.execute_reply": "2024-06-22T04:21:57.453104Z",
     "shell.execute_reply.started": "2024-06-22T04:21:57.429291Z"
    },
    "papermill": {
     "duration": null,
     "end_time": null,
     "exception": null,
     "start_time": null,
     "status": "pending"
    },
    "tags": []
   },
   "outputs": [],
   "source": [
    "mirdtr_df = pd.concat([df[feature_mirdtr], df['labels']], axis=1)\n",
    "\n",
    "# 加载数据集并进行标准化处理\n",
    "X_mirdtr = mirdtr_df.drop(['labels'], axis = 1).values\n",
    "y_mirdtr = mirdtr_df['labels'].values\n",
    "scaler = StandardScaler()\n",
    "X_scaled_mirdtr = scaler.fit_transform(X_mirdtr)\n",
    "\n",
    "X_resampled, y_resampled = resample(X_scaled_mirdtr, y_mirdtr, replace=True, n_samples=len(y==1), random_state=42)  \n",
    "X_train_resampled, X_test_resampled, y_train_resampled, y_test_resampled = train_test_split(X_resampled, y_resampled, test_size=0.3, random_state=42)"
   ]
  },
  {
   "cell_type": "code",
   "execution_count": null,
   "id": "f86a2c1f",
   "metadata": {
    "execution": {
     "iopub.execute_input": "2024-06-22T04:21:57.457153Z",
     "iopub.status.busy": "2024-06-22T04:21:57.456638Z",
     "iopub.status.idle": "2024-06-22T04:31:55.519674Z",
     "shell.execute_reply": "2024-06-22T04:31:55.517806Z",
     "shell.execute_reply.started": "2024-06-22T04:21:57.457103Z"
    },
    "papermill": {
     "duration": null,
     "end_time": null,
     "exception": null,
     "start_time": null,
     "status": "pending"
    },
    "tags": []
   },
   "outputs": [],
   "source": [
    "automl = AutoSklearnClassifier(\n",
    "    time_left_for_this_task=120*5,\n",
    "    per_run_time_limit=30,\n",
    "    metric=autosklearn.metrics.accuracy,\n",
    "    seed=42,\n",
    "    resampling_strategy='cv',\n",
    "    resampling_strategy_arguments={'folds': 5}\n",
    ")\n",
    "automl.fit(X_train_resampled, y_train_resampled)\n",
    "automl.leaderboard(detailed = True, ensemble_only=False)\n",
    "print(automl.sprint_statistics())"
   ]
  },
  {
   "cell_type": "code",
   "execution_count": null,
   "id": "87638905",
   "metadata": {
    "execution": {
     "iopub.execute_input": "2024-06-22T04:31:55.523024Z",
     "iopub.status.busy": "2024-06-22T04:31:55.522342Z",
     "iopub.status.idle": "2024-06-22T04:31:55.593005Z",
     "shell.execute_reply": "2024-06-22T04:31:55.591106Z",
     "shell.execute_reply.started": "2024-06-22T04:31:55.522950Z"
    },
    "papermill": {
     "duration": null,
     "end_time": null,
     "exception": null,
     "start_time": null,
     "status": "pending"
    },
    "tags": []
   },
   "outputs": [],
   "source": [
    "print(automl.show_models())"
   ]
  },
  {
   "cell_type": "code",
   "execution_count": null,
   "id": "4dcb6903",
   "metadata": {
    "execution": {
     "iopub.execute_input": "2024-06-22T04:31:55.596637Z",
     "iopub.status.busy": "2024-06-22T04:31:55.595472Z",
     "iopub.status.idle": "2024-06-22T04:32:03.775702Z",
     "shell.execute_reply": "2024-06-22T04:32:03.773919Z",
     "shell.execute_reply.started": "2024-06-22T04:31:55.596559Z"
    },
    "papermill": {
     "duration": null,
     "end_time": null,
     "exception": null,
     "start_time": null,
     "status": "pending"
    },
    "tags": []
   },
   "outputs": [],
   "source": [
    "pred_dt = automl.predict(X_test_resampled)\n",
    "accuracy = accuracy_score(y_test_resampled, pred_dt).round(5)\n",
    "precision = precision_score(y_test_resampled, pred_dt).round(5)\n",
    "recall = recall_score(y_test_resampled, pred_dt).round(5) \n",
    "f1 = f1_score(y_test_resampled, pred_dt).round(5)\n",
    "roc_auc = roc_auc_score(y_test_resampled, pred_dt).round(5)\n",
    "\n",
    "print(f'Accuracy: {accuracy}')\n",
    "print(f'Precision: {precision}')\n",
    "print(f'Recall: {recall}')\n",
    "print(f'F1: {f1}')\n",
    "print(f'ROC_AUC: {roc_auc}')"
   ]
  },
  {
   "cell_type": "code",
   "execution_count": null,
   "id": "cbc10f2a",
   "metadata": {
    "execution": {
     "iopub.execute_input": "2024-06-22T04:32:03.778567Z",
     "iopub.status.busy": "2024-06-22T04:32:03.778057Z",
     "iopub.status.idle": "2024-06-22T04:32:03.821763Z",
     "shell.execute_reply": "2024-06-22T04:32:03.820109Z",
     "shell.execute_reply.started": "2024-06-22T04:32:03.778512Z"
    },
    "papermill": {
     "duration": null,
     "end_time": null,
     "exception": null,
     "start_time": null,
     "status": "pending"
    },
    "tags": []
   },
   "outputs": [],
   "source": [
    "import numpy as np\n",
    "from sklearn.linear_model import Lasso, Ridge\n",
    "from xgboost import XGBClassifier as XGB\n",
    "from sklearn.ensemble import RandomForestClassifier \n",
    "from sklearn.model_selection import cross_val_score\n",
    "\n",
    "\n",
    "class ImprovedREFCV:\n",
    "    def __init__(self, X, y, n_features, step=1, cv=5, alpha_lasso=0.01, alpha_ridge=0.01):\n",
    "        \"\"\"\n",
    "        初始化函数，输入参数：\n",
    "        X: 数据集特征矩阵（ndarray）\n",
    "        y: 标签向量（ndarray）\n",
    "        n_features: 选择的特征数量（int）\n",
    "        step: 每轮迭代中选择特征的步长（int，默认为1）\n",
    "        cv: 交叉验证折数（int，默认为5）\n",
    "        alpha_lasso: L1正则化系数（float，默认为0.01）\n",
    "        alpha_ridge: L2正则化系数（float，默认为0.01）\n",
    "        \"\"\"\n",
    "        self.X = X\n",
    "        self.y = y\n",
    "        self.n_features_ = n_features\n",
    "        self.step_ = step\n",
    "        self.cv_ = cv\n",
    "        self.alpha_lasso = alpha_lasso\n",
    "        self.alpha_ridge = alpha_ridge\n",
    "        self.selected_features_ = []\n",
    "\n",
    "    def _calculate_stability(self, model, X, y, n_iter=10):\n",
    "        \"\"\"\n",
    "        计算稳定性得分的内部函数。该函数使用稳定性评估方法对给定的特征子集进行评估，并返回一个稳定性得分。\n",
    "        输入参数：\n",
    "        model: 回归模型实例\n",
    "        X: 特征矩阵（ndarray）\n",
    "        y: 标签向量（ndarray）\n",
    "        n_iter: 采样次数（int，默认为10）\n",
    "        \"\"\"\n",
    "        scores = []\n",
    "        for i in range(n_iter):\n",
    "            # 采样训练和测试数据\n",
    "            idx_train = np.random.choice(X.shape[0], size=int(0.7 * X.shape[0]), replace=False)\n",
    "            idx_test = np.setdiff1d(np.arange(X.shape[0]), idx_train)\n",
    "            X_train, y_train = X[idx_train, :], y[idx_train]\n",
    "            X_test, y_test = X[idx_test, :], y[idx_test]\n",
    "\n",
    "            # 使用回归模型进行拟合和预测，并计算R方值\n",
    "            model.fit(X_train, y_train)\n",
    "            score = model.score(X_test, y_test)\n",
    "\n",
    "            scores.append(score)\n",
    "\n",
    "        return np.mean(scores)\n",
    "\n",
    "    def fit_transform(self):\n",
    "        \"\"\"\n",
    "        特征选择函数，返回被选择的特征的索引列表。\n",
    "        \"\"\"\n",
    "        # 构建特征集合\n",
    "        features = np.arange(self.X.shape[1])\n",
    "\n",
    "        for i in range(self.n_features_):\n",
    "            # 初始化累计评分和稳定性得分\n",
    "            scores = np.zeros(features.shape[0])\n",
    "            stabilities = np.zeros(features.shape[0])\n",
    "            lasso_regularizations = np.zeros(features.shape[0])\n",
    "            ridge_regularizations = np.zeros(features.shape[0])\n",
    "\n",
    "            # 计算每个特征的评分和稳定性得分\n",
    "            for j, feature in enumerate(features):\n",
    "                # 对于每个回归模型，使用交叉验证计算特征子集的平均R方值\n",
    "                models = [\n",
    "                    RandomForestClassifier(random_state=42),\n",
    "                    XGB(random_state=42)\n",
    "                ]\n",
    "                scores_model = []\n",
    "                stabilities_model = []\n",
    "                lasso_regularization_model = []\n",
    "                ridge_regularization_model = []\n",
    "                \n",
    "                for model in models:\n",
    "                    scores_cv = cross_val_score(model, self.X[:, feature][:, np.newaxis], self.y, cv=self.cv_,\n",
    "                                                scoring='accuracy')\n",
    "                    \n",
    "                    score = np.mean(scores_cv)\n",
    "                    stability = self._calculate_stability(model, self.X[:, feature][:, np.newaxis], self.y)\n",
    "\n",
    "                    # 计算L1正则化项得分\n",
    "                    if self.alpha_lasso > 0:\n",
    "                        model_lasso = Lasso(alpha=self.alpha_lasso)\n",
    "                        model_lasso.fit(self.X[:,feature][:,np.newaxis],self.y)\n",
    "                        regularization_score_lasso = np.abs(model_lasso.coef_[0])\n",
    "                    else:\n",
    "                        regularization_score_lasso = 0\n",
    "\n",
    "                    # 计算L2正则化项得分\n",
    "                    if self.alpha_ridge > 0:\n",
    "                        model_ridge = Ridge(alpha=self.alpha_ridge)\n",
    "                        model_ridge.fit(self.X[:,feature][:,np.newaxis],self.y)\n",
    "                        regularization_score_ridge = np.abs(model_ridge.coef_[0])\n",
    "                    else:\n",
    "                        regularization_score_ridge = 0\n",
    "\n",
    "                    scores_model.append(score)\n",
    "                    stabilities_model.append(stability)\n",
    "                    lasso_regularization_model.append(regularization_score_lasso)\n",
    "                    ridge_regularization_model.append(regularization_score_ridge)\n",
    "\n",
    "                # 将两个回归模型的评分取平均值作为最终评分\n",
    "                scores[j] = np.mean(scores_model)\n",
    "                # print(\"第\", j+1, \"个特征的得分：\", scores[j])\n",
    "                stabilities[j] = np.mean(stabilities_model)\n",
    "                # print(\"第\", j+1, \"个特征的稳定性得分：\", stabilities[j])\n",
    "                lasso_regularizations[j] = np.mean(lasso_regularization_model)\n",
    "                # print(\"第\", j+1, \"个特征的L1得分：\", lasso_regularizations[j])\n",
    "                ridge_regularizations[j] = np.mean(ridge_regularization_model)\n",
    "                # print(\"第\", j+1, \"个特征的L2得分：\", ridge_regularizations[j])\n",
    "\n",
    "            # 计算得分最高的特征索引\n",
    "            best_score_idx = np.argmax(scores + stabilities + lasso_regularizations + ridge_regularizations)\n",
    "            best_feature = features[best_score_idx]\n",
    "            self.selected_features_.append(best_feature)\n",
    "            # print('第', i+1, '个特征：', best_feature) #输出每次选中的特征\n",
    "\n",
    "            # 更新特征集合，移除选出的特征和相邻的step-1个特征\n",
    "            idx_remove = np.arange(max(0, best_score_idx - self.step_ + 1), min(best_score_idx + self.step_, features.shape[0]))\n",
    "            # print(\"移除特征：\", idx_remove)\n",
    "            features = np.setdiff1d(features, features[idx_remove])\n",
    "            # print('剩余的特征：', features) #输出剔除后的特征\n",
    "\n",
    "        return self.selected_features_"
   ]
  },
  {
   "cell_type": "code",
   "execution_count": null,
   "id": "a266f5af",
   "metadata": {
    "execution": {
     "iopub.execute_input": "2024-06-22T04:32:03.824586Z",
     "iopub.status.busy": "2024-06-22T04:32:03.823949Z"
    },
    "papermill": {
     "duration": null,
     "end_time": null,
     "exception": null,
     "start_time": null,
     "status": "pending"
    },
    "tags": []
   },
   "outputs": [],
   "source": [
    "refcv = ImprovedREFCV(X_scaled, y, n_features=12, alpha_lasso=0.01, alpha_ridge=0.01)\n",
    "\n",
    "# 执行特征选择\n",
    "selected_features = refcv.fit_transform()\n",
    "\n",
    "# 输出结果\n",
    "print('Selected features: ', selected_features)"
   ]
  },
  {
   "cell_type": "code",
   "execution_count": null,
   "id": "d2a1b0cd",
   "metadata": {
    "papermill": {
     "duration": null,
     "end_time": null,
     "exception": null,
     "start_time": null,
     "status": "pending"
    },
    "tags": []
   },
   "outputs": [],
   "source": [
    "feature1 = df.columns.drop(['labels'])[[selected_features]].values\n",
    "feature1"
   ]
  },
  {
   "cell_type": "code",
   "execution_count": null,
   "id": "7910f52d",
   "metadata": {
    "papermill": {
     "duration": null,
     "end_time": null,
     "exception": null,
     "start_time": null,
     "status": "pending"
    },
    "tags": []
   },
   "outputs": [],
   "source": [
    "improvedRFECV = pd.concat([df[feature1], df['labels']], axis=1)\n",
    "X_improvedRFECV = improvedRFECV.drop(['labels'], axis = 1).values\n",
    "y_improvedRFECV = improvedRFECV['labels'].values\n",
    "scaler = StandardScaler()\n",
    "X_scaled_improvedRFECV = scaler.fit_transform(X_improvedRFECV)\n",
    "\n",
    "X_resampled, y_resampled = resample(X_scaled_improvedRFECV, y_improvedRFECV, replace=True, n_samples=len(y==1), random_state=42)  \n",
    "X_train_resampled, X_test_resampled, y_train_resampled, y_test_resampled = train_test_split(X_resampled, y_resampled, test_size=0.3, random_state=42)"
   ]
  },
  {
   "cell_type": "code",
   "execution_count": null,
   "id": "de354cc4",
   "metadata": {
    "papermill": {
     "duration": null,
     "end_time": null,
     "exception": null,
     "start_time": null,
     "status": "pending"
    },
    "tags": []
   },
   "outputs": [],
   "source": [
    "automl = AutoSklearnClassifier(\n",
    "    time_left_for_this_task=120*5,\n",
    "    per_run_time_limit=30,\n",
    "    metric=autosklearn.metrics.accuracy,\n",
    "    seed=42,\n",
    "    resampling_strategy='cv',\n",
    "    resampling_strategy_arguments={'folds': 5}\n",
    ")\n",
    "automl.fit(X_train_resampled, y_train_resampled)\n",
    "automl.leaderboard(detailed = True, ensemble_only=False)\n",
    "print(automl.sprint_statistics())"
   ]
  },
  {
   "cell_type": "code",
   "execution_count": null,
   "id": "8d6ec311",
   "metadata": {
    "papermill": {
     "duration": null,
     "end_time": null,
     "exception": null,
     "start_time": null,
     "status": "pending"
    },
    "tags": []
   },
   "outputs": [],
   "source": [
    "print(automl.show_models())"
   ]
  },
  {
   "cell_type": "code",
   "execution_count": null,
   "id": "f86c0315",
   "metadata": {
    "papermill": {
     "duration": null,
     "end_time": null,
     "exception": null,
     "start_time": null,
     "status": "pending"
    },
    "tags": []
   },
   "outputs": [],
   "source": [
    "pred_imrfecv = automl.predict(X_test_resampled)\n",
    "accuracy = accuracy_score(y_test_resampled, pred_imrfecv).round(5)\n",
    "precision = precision_score(y_test_resampled, pred_imrfecv).round(5)\n",
    "recall = recall_score(y_test_resampled, pred_imrfecv).round(5) \n",
    "f1 = f1_score(y_test_resampled, pred_imrfecv).round(5)\n",
    "roc_auc = roc_auc_score(y_test_resampled, pred_imrfecv).round(5)\n",
    "\n",
    "print(f'Accuracy: {accuracy}')\n",
    "print(f'Precision: {precision}')\n",
    "print(f'Recall: {recall}')\n",
    "print(f'F1: {f1}')\n",
    "print(f'ROC_AUC: {roc_auc}')"
   ]
  },
  {
   "cell_type": "code",
   "execution_count": null,
   "id": "5bbccb8b",
   "metadata": {
    "papermill": {
     "duration": null,
     "end_time": null,
     "exception": null,
     "start_time": null,
     "status": "pending"
    },
    "tags": []
   },
   "outputs": [],
   "source": [
    "from mlxtend.feature_selection import SequentialFeatureSelector as SFS\n",
    "import lightgbm as lgbm\n",
    "\n",
    "lgb = lgbm.LGBMClassifier(random_state=42)\n",
    "\n",
    "# 构造SFS算法对象，初始化特征子集为空集\n",
    "sfs = SFS(lgb, k_features='best', forward=True, scoring='accuracy', cv=5)\n",
    "\n",
    "# 将数据X和标签y作为输入，进行特征选择\n",
    "sfs.fit(X_scaled, y)\n",
    "\n",
    "# 输出最佳特征子集\n",
    "print('Best feature subset:', sfs.k_feature_idx_)\n"
   ]
  },
  {
   "cell_type": "code",
   "execution_count": null,
   "id": "081a21df",
   "metadata": {
    "papermill": {
     "duration": null,
     "end_time": null,
     "exception": null,
     "start_time": null,
     "status": "pending"
    },
    "tags": []
   },
   "outputs": [],
   "source": [
    "best_features = sfs.k_feature_idx_\n",
    "sfsf_feature = df.columns.drop(['labels'])[[best_features]].values\n",
    "sfsf_feature"
   ]
  },
  {
   "cell_type": "code",
   "execution_count": null,
   "id": "de767f47",
   "metadata": {
    "papermill": {
     "duration": null,
     "end_time": null,
     "exception": null,
     "start_time": null,
     "status": "pending"
    },
    "tags": []
   },
   "outputs": [],
   "source": [
    "sfsf = pd.concat([df[sfsf_feature], df['labels']], axis=1)\n",
    "X_sfsf = sfsf.drop(['labels'], axis = 1).values\n",
    "y_sfsf = sfsf['labels'].values\n",
    "scaler = StandardScaler()\n",
    "X_scaled_sfsf = scaler.fit_transform(X_sfsf)\n",
    "\n",
    "X_resampled, y_resampled = resample(X_scaled_sfsf, y_sfsf, replace=True, n_samples=len(y==1), random_state=42)  \n",
    "X_train_resampled, X_test_resampled, y_train_resampled, y_test_resampled = train_test_split(X_resampled, y_resampled, test_size=0.3, random_state=42)"
   ]
  },
  {
   "cell_type": "code",
   "execution_count": null,
   "id": "145f3fc6",
   "metadata": {
    "papermill": {
     "duration": null,
     "end_time": null,
     "exception": null,
     "start_time": null,
     "status": "pending"
    },
    "tags": []
   },
   "outputs": [],
   "source": [
    "automl = AutoSklearnClassifier(\n",
    "    time_left_for_this_task=120*5,\n",
    "    per_run_time_limit=30,\n",
    "    metric=autosklearn.metrics.accuracy,\n",
    "    seed=42,\n",
    "    resampling_strategy='cv',\n",
    "    resampling_strategy_arguments={'folds': 5}\n",
    ")\n",
    "automl.fit(X_train_resampled, y_train_resampled)\n",
    "automl.leaderboard(detailed = True, ensemble_only=False)\n",
    "print(automl.sprint_statistics())"
   ]
  },
  {
   "cell_type": "code",
   "execution_count": null,
   "id": "2bd219ed",
   "metadata": {
    "papermill": {
     "duration": null,
     "end_time": null,
     "exception": null,
     "start_time": null,
     "status": "pending"
    },
    "tags": []
   },
   "outputs": [],
   "source": [
    "print(automl.show_models())"
   ]
  },
  {
   "cell_type": "code",
   "execution_count": null,
   "id": "e7633acd",
   "metadata": {
    "papermill": {
     "duration": null,
     "end_time": null,
     "exception": null,
     "start_time": null,
     "status": "pending"
    },
    "tags": []
   },
   "outputs": [],
   "source": [
    "pred_sfsf = automl.predict(X_test_resampled)\n",
    "accuracy = accuracy_score(y_test_resampled, pred_sfsf).round(5)\n",
    "precision = precision_score(y_test_resampled, pred_sfsf).round(5)\n",
    "recall = recall_score(y_test_resampled, pred_sfsf).round(5) \n",
    "f1 = f1_score(y_test_resampled, pred_sfsf).round(5)\n",
    "roc_auc = roc_auc_score(y_test_resampled, pred_sfsf).round(5)\n",
    "\n",
    "print(f'Accuracy: {accuracy}')\n",
    "print(f'Precision: {precision}')\n",
    "print(f'Recall: {recall}')\n",
    "print(f'F1: {f1}')\n",
    "print(f'ROC_AUC: {roc_auc}')"
   ]
  }
 ],
 "metadata": {
  "kaggle": {
   "accelerator": "none",
   "dataSources": [
    {
     "datasetId": 4515898,
     "sourceId": 7728830,
     "sourceType": "datasetVersion"
    }
   ],
   "dockerImageVersionId": 30458,
   "isGpuEnabled": false,
   "isInternetEnabled": true,
   "language": "python",
   "sourceType": "notebook"
  },
  "kernelspec": {
   "display_name": "Python 3",
   "language": "python",
   "name": "python3"
  },
  "language_info": {
   "codemirror_mode": {
    "name": "ipython",
    "version": 3
   },
   "file_extension": ".py",
   "mimetype": "text/x-python",
   "name": "python",
   "nbconvert_exporter": "python",
   "pygments_lexer": "ipython3",
   "version": "3.7.12"
  },
  "papermill": {
   "default_parameters": {},
   "duration": 92.857275,
   "end_time": "2024-08-26T10:56:56.749194",
   "environment_variables": {},
   "exception": true,
   "input_path": "__notebook__.ipynb",
   "output_path": "__notebook__.ipynb",
   "parameters": {},
   "start_time": "2024-08-26T10:55:23.891919",
   "version": "2.4.0"
  }
 },
 "nbformat": 4,
 "nbformat_minor": 5
}
